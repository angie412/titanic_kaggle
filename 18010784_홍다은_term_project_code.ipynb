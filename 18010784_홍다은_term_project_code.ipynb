{
 "cells": [
  {
   "cell_type": "markdown",
   "metadata": {},
   "source": [
    "# 문제 정의 "
   ]
  },
  {
   "cell_type": "markdown",
   "metadata": {},
   "source": [
    "* 타이타닉 탑승자 데이터를 기반으로 생존자 예측하는 딥러닝 모델을 생성한다. "
   ]
  },
  {
   "cell_type": "markdown",
   "metadata": {},
   "source": [
    "# EDA"
   ]
  },
  {
   "cell_type": "code",
   "execution_count": 316,
   "metadata": {},
   "outputs": [
    {
     "data": {
      "text/html": [
       "<div>\n",
       "<style scoped>\n",
       "    .dataframe tbody tr th:only-of-type {\n",
       "        vertical-align: middle;\n",
       "    }\n",
       "\n",
       "    .dataframe tbody tr th {\n",
       "        vertical-align: top;\n",
       "    }\n",
       "\n",
       "    .dataframe thead th {\n",
       "        text-align: right;\n",
       "    }\n",
       "</style>\n",
       "<table border=\"1\" class=\"dataframe\">\n",
       "  <thead>\n",
       "    <tr style=\"text-align: right;\">\n",
       "      <th></th>\n",
       "      <th>PassengerId</th>\n",
       "      <th>Survived</th>\n",
       "      <th>Pclass</th>\n",
       "      <th>Name</th>\n",
       "      <th>Sex</th>\n",
       "      <th>Age</th>\n",
       "      <th>SibSp</th>\n",
       "      <th>Parch</th>\n",
       "      <th>Ticket</th>\n",
       "      <th>Fare</th>\n",
       "      <th>Cabin</th>\n",
       "      <th>Embarked</th>\n",
       "    </tr>\n",
       "  </thead>\n",
       "  <tbody>\n",
       "    <tr>\n",
       "      <th>0</th>\n",
       "      <td>1</td>\n",
       "      <td>0</td>\n",
       "      <td>3</td>\n",
       "      <td>Braund, Mr. Owen Harris</td>\n",
       "      <td>male</td>\n",
       "      <td>22.0</td>\n",
       "      <td>1</td>\n",
       "      <td>0</td>\n",
       "      <td>A/5 21171</td>\n",
       "      <td>7.2500</td>\n",
       "      <td>NaN</td>\n",
       "      <td>S</td>\n",
       "    </tr>\n",
       "    <tr>\n",
       "      <th>1</th>\n",
       "      <td>2</td>\n",
       "      <td>1</td>\n",
       "      <td>1</td>\n",
       "      <td>Cumings, Mrs. John Bradley (Florence Briggs Th...</td>\n",
       "      <td>female</td>\n",
       "      <td>38.0</td>\n",
       "      <td>1</td>\n",
       "      <td>0</td>\n",
       "      <td>PC 17599</td>\n",
       "      <td>71.2833</td>\n",
       "      <td>C85</td>\n",
       "      <td>C</td>\n",
       "    </tr>\n",
       "    <tr>\n",
       "      <th>2</th>\n",
       "      <td>3</td>\n",
       "      <td>1</td>\n",
       "      <td>3</td>\n",
       "      <td>Heikkinen, Miss. Laina</td>\n",
       "      <td>female</td>\n",
       "      <td>26.0</td>\n",
       "      <td>0</td>\n",
       "      <td>0</td>\n",
       "      <td>STON/O2. 3101282</td>\n",
       "      <td>7.9250</td>\n",
       "      <td>NaN</td>\n",
       "      <td>S</td>\n",
       "    </tr>\n",
       "    <tr>\n",
       "      <th>3</th>\n",
       "      <td>4</td>\n",
       "      <td>1</td>\n",
       "      <td>1</td>\n",
       "      <td>Futrelle, Mrs. Jacques Heath (Lily May Peel)</td>\n",
       "      <td>female</td>\n",
       "      <td>35.0</td>\n",
       "      <td>1</td>\n",
       "      <td>0</td>\n",
       "      <td>113803</td>\n",
       "      <td>53.1000</td>\n",
       "      <td>C123</td>\n",
       "      <td>S</td>\n",
       "    </tr>\n",
       "    <tr>\n",
       "      <th>4</th>\n",
       "      <td>5</td>\n",
       "      <td>0</td>\n",
       "      <td>3</td>\n",
       "      <td>Allen, Mr. William Henry</td>\n",
       "      <td>male</td>\n",
       "      <td>35.0</td>\n",
       "      <td>0</td>\n",
       "      <td>0</td>\n",
       "      <td>373450</td>\n",
       "      <td>8.0500</td>\n",
       "      <td>NaN</td>\n",
       "      <td>S</td>\n",
       "    </tr>\n",
       "  </tbody>\n",
       "</table>\n",
       "</div>"
      ],
      "text/plain": [
       "   PassengerId  Survived  Pclass  \\\n",
       "0            1         0       3   \n",
       "1            2         1       1   \n",
       "2            3         1       3   \n",
       "3            4         1       1   \n",
       "4            5         0       3   \n",
       "\n",
       "                                                Name     Sex   Age  SibSp  \\\n",
       "0                            Braund, Mr. Owen Harris    male  22.0      1   \n",
       "1  Cumings, Mrs. John Bradley (Florence Briggs Th...  female  38.0      1   \n",
       "2                             Heikkinen, Miss. Laina  female  26.0      0   \n",
       "3       Futrelle, Mrs. Jacques Heath (Lily May Peel)  female  35.0      1   \n",
       "4                           Allen, Mr. William Henry    male  35.0      0   \n",
       "\n",
       "   Parch            Ticket     Fare Cabin Embarked  \n",
       "0      0         A/5 21171   7.2500   NaN        S  \n",
       "1      0          PC 17599  71.2833   C85        C  \n",
       "2      0  STON/O2. 3101282   7.9250   NaN        S  \n",
       "3      0            113803  53.1000  C123        S  \n",
       "4      0            373450   8.0500   NaN        S  "
      ]
     },
     "execution_count": 316,
     "metadata": {},
     "output_type": "execute_result"
    }
   ],
   "source": [
    "# 파이썬의 import를 활용해 데이터 분석용 패키지인 판다스(pandas)를 읽어옴\n",
    "import numpy as np\n",
    "import pandas as pd\n",
    "import matplotlib.pyplot as plt\n",
    "import seaborn as sns\n",
    "%matplotlib inline\n",
    "\n",
    "#train.csv 파일을 읽어옴\n",
    "titanic_df = pd.read_csv('/Users/angela/Desktop/data/titanic/train.csv')\n",
    "titanic_df.head( ) #head()로 train 데이터의 상위 5개를 띄움"
   ]
  },
  {
   "cell_type": "markdown",
   "metadata": {},
   "source": [
    "* Pandas의 info() 메서드를 사용하여 각 컬럼들의 데이터 성격 파악"
   ]
  },
  {
   "cell_type": "code",
   "execution_count": 317,
   "metadata": {},
   "outputs": [
    {
     "name": "stdout",
     "output_type": "stream",
     "text": [
      "<class 'pandas.core.frame.DataFrame'>\n",
      "RangeIndex: 891 entries, 0 to 890\n",
      "Data columns (total 12 columns):\n",
      " #   Column       Non-Null Count  Dtype  \n",
      "---  ------       --------------  -----  \n",
      " 0   PassengerId  891 non-null    int64  \n",
      " 1   Survived     891 non-null    int64  \n",
      " 2   Pclass       891 non-null    int64  \n",
      " 3   Name         891 non-null    object \n",
      " 4   Sex          891 non-null    object \n",
      " 5   Age          714 non-null    float64\n",
      " 6   SibSp        891 non-null    int64  \n",
      " 7   Parch        891 non-null    int64  \n",
      " 8   Ticket       891 non-null    object \n",
      " 9   Fare         891 non-null    float64\n",
      " 10  Cabin        204 non-null    object \n",
      " 11  Embarked     889 non-null    object \n",
      "dtypes: float64(2), int64(5), object(5)\n",
      "memory usage: 83.7+ KB\n",
      "None\n"
     ]
    }
   ],
   "source": [
    "print(titanic_df.info())"
   ]
  },
  {
   "cell_type": "code",
   "execution_count": 318,
   "metadata": {},
   "outputs": [
    {
     "data": {
      "text/plain": [
       "PassengerId      0\n",
       "Survived         0\n",
       "Pclass           0\n",
       "Name             0\n",
       "Sex              0\n",
       "Age            177\n",
       "SibSp            0\n",
       "Parch            0\n",
       "Ticket           0\n",
       "Fare             0\n",
       "Cabin          687\n",
       "Embarked         2\n",
       "dtype: int64"
      ]
     },
     "execution_count": 318,
     "metadata": {},
     "output_type": "execute_result"
    }
   ],
   "source": [
    "titanic_df.isnull().sum()"
   ]
  },
  {
   "cell_type": "code",
   "execution_count": 319,
   "metadata": {},
   "outputs": [
    {
     "name": "stdout",
     "output_type": "stream",
     "text": [
      "데이터 세트 Null 값 갯수  0\n"
     ]
    }
   ],
   "source": [
    "titanic_df['Age'].fillna(titanic_df['Age'].mean(),inplace=True)\n",
    "titanic_df['Cabin'].fillna('N',inplace=True)\n",
    "titanic_df['Embarked'].fillna('N',inplace=True)\n",
    "print('데이터 세트 Null 값 갯수 ',titanic_df.isnull().sum().sum())"
   ]
  },
  {
   "cell_type": "markdown",
   "metadata": {},
   "source": [
    "## 데이터 분포 확인하기"
   ]
  },
  {
   "cell_type": "code",
   "execution_count": 320,
   "metadata": {},
   "outputs": [
    {
     "name": "stdout",
     "output_type": "stream",
     "text": [
      " Sex 값 분포 :\n",
      " male      577\n",
      "female    314\n",
      "Name: Sex, dtype: int64\n",
      "\n",
      " Cabin 값 분포 :\n",
      " N              687\n",
      "C23 C25 C27      4\n",
      "G6               4\n",
      "B96 B98          4\n",
      "D                3\n",
      "              ... \n",
      "B30              1\n",
      "C111             1\n",
      "B73              1\n",
      "B39              1\n",
      "D30              1\n",
      "Name: Cabin, Length: 148, dtype: int64\n",
      "\n",
      " Embarked 값 분포 :\n",
      " S    644\n",
      "C    168\n",
      "Q     77\n",
      "N      2\n",
      "Name: Embarked, dtype: int64\n"
     ]
    }
   ],
   "source": [
    "print(' Sex 값 분포 :\\n',titanic_df['Sex'].value_counts())\n",
    "print('\\n Cabin 값 분포 :\\n',titanic_df['Cabin'].value_counts())\n",
    "print('\\n Embarked 값 분포 :\\n',titanic_df['Embarked'].value_counts())"
   ]
  },
  {
   "cell_type": "code",
   "execution_count": 321,
   "metadata": {},
   "outputs": [
    {
     "name": "stdout",
     "output_type": "stream",
     "text": [
      "0    N\n",
      "1    C\n",
      "2    N\n",
      "Name: Cabin, dtype: object\n"
     ]
    }
   ],
   "source": [
    "titanic_df['Cabin'] = titanic_df['Cabin'].str[:1]\n",
    "print(titanic_df['Cabin'].head(3))"
   ]
  },
  {
   "cell_type": "markdown",
   "metadata": {},
   "source": [
    "### 성별이 생존 확률에 어떤 영향을 미쳤는가? \n",
    "* 데이터로 시각화하여 확인한다"
   ]
  },
  {
   "cell_type": "code",
   "execution_count": 322,
   "metadata": {},
   "outputs": [
    {
     "data": {
      "text/plain": [
       "Sex     Survived\n",
       "female  0            81\n",
       "        1           233\n",
       "male    0           468\n",
       "        1           109\n",
       "Name: Survived, dtype: int64"
      ]
     },
     "execution_count": 322,
     "metadata": {},
     "output_type": "execute_result"
    }
   ],
   "source": [
    "titanic_df.groupby(['Sex','Survived'])['Survived'].count()"
   ]
  },
  {
   "cell_type": "code",
   "execution_count": 323,
   "metadata": {},
   "outputs": [
    {
     "data": {
      "text/plain": [
       "<AxesSubplot:xlabel='Sex', ylabel='Survived'>"
      ]
     },
     "execution_count": 323,
     "metadata": {},
     "output_type": "execute_result"
    },
    {
     "data": {
      "image/png": "[encoded data removed]",
      "text/plain": [
       "<Figure size 432x288 with 1 Axes>"
      ]
     },
     "metadata": {
      "needs_background": "light"
     },
     "output_type": "display_data"
    }
   ],
   "source": [
    "sns.barplot(x='Sex', y = 'Survived', data=titanic_df)"
   ]
  },
  {
   "cell_type": "markdown",
   "metadata": {},
   "source": [
    "### 티켓의 선실 등급에 따른 생존 여부? "
   ]
  },
  {
   "cell_type": "code",
   "execution_count": 324,
   "metadata": {},
   "outputs": [
    {
     "data": {
      "text/plain": [
       "<AxesSubplot:xlabel='Pclass', ylabel='Survived'>"
      ]
     },
     "execution_count": 324,
     "metadata": {},
     "output_type": "execute_result"
    },
    {
     "data": {
      "image/png": "[encoded data removed]",
      "text/plain": [
       "<Figure size 432x288 with 1 Axes>"
      ]
     },
     "metadata": {
      "needs_background": "light"
     },
     "output_type": "display_data"
    }
   ],
   "source": [
    "sns.barplot(x='Pclass', y='Survived', hue='Sex', data=titanic_df)"
   ]
  },
  {
   "cell_type": "markdown",
   "metadata": {},
   "source": [
    "### 연령대에 따른 생존 여부는?\n",
    "* 나이를 가지고 사용자 함수를 작성하여 연령대라는 범주형 데이터를 생성한다. \n",
    "* 연령대별 생존 여부를 그래프로 그려 내용을 확인한다."
   ]
  },
  {
   "cell_type": "code",
   "execution_count": 325,
   "metadata": {},
   "outputs": [
    {
     "data": {
      "image/png": "[encoded data removed]",
      "text/plain": [
       "<Figure size 720x432 with 1 Axes>"
      ]
     },
     "metadata": {
      "needs_background": "light"
     },
     "output_type": "display_data"
    }
   ],
   "source": [
    "# 입력 age에 따라 구분값을 반환하는 함수 설정. DataFrame의 apply lambda식에 사용. \n",
    "def get_category(age):\n",
    "    cat = ''\n",
    "    if age <= -1: cat = 'Unknown'\n",
    "    elif age <= 5: cat = 'Baby'\n",
    "    elif age <= 12: cat = 'Child'\n",
    "    elif age <= 18: cat = 'Teenager'\n",
    "    elif age <= 25: cat = 'Student'\n",
    "    elif age <= 35: cat = 'Young Adult'\n",
    "    elif age <= 60: cat = 'Adult'\n",
    "    else : cat = 'Elderly'\n",
    "    \n",
    "    return cat\n",
    "\n",
    "# 막대그래프의 크기 figure를 더 크게 설정 \n",
    "plt.figure(figsize=(10,6))\n",
    "\n",
    "#X축의 값을 순차적으로 표시하기 위한 설정 \n",
    "group_names = ['Unknown', 'Baby', 'Child', 'Teenager', 'Student', 'Young Adult', 'Adult', 'Elderly']\n",
    "\n",
    "# lambda 식에 위에서 생성한 get_category( ) 함수를 반환값으로 지정. \n",
    "# get_category(X)는 입력값으로 'Age' 컬럼값을 받아서 해당하는 cat 반환\n",
    "titanic_df['Age_cat'] = titanic_df['Age'].apply(lambda x : get_category(x))\n",
    "sns.barplot(x='Age_cat', y = 'Survived', hue='Sex', data=titanic_df, order=group_names)\n",
    "titanic_df.drop('Age_cat', axis=1, inplace=True)"
   ]
  },
  {
   "cell_type": "markdown",
   "metadata": {},
   "source": [
    "* 범주형 데이터의 경우 분석에 바로 사용할수 없기에 원핫인코더, 라벨인코더로 변경한다. \n",
    "* 이번에는 라벨인코더를 사용한다."
   ]
  },
  {
   "cell_type": "code",
   "execution_count": 326,
   "metadata": {},
   "outputs": [
    {
     "data": {
      "text/html": [
       "<div>\n",
       "<style scoped>\n",
       "    .dataframe tbody tr th:only-of-type {\n",
       "        vertical-align: middle;\n",
       "    }\n",
       "\n",
       "    .dataframe tbody tr th {\n",
       "        vertical-align: top;\n",
       "    }\n",
       "\n",
       "    .dataframe thead th {\n",
       "        text-align: right;\n",
       "    }\n",
       "</style>\n",
       "<table border=\"1\" class=\"dataframe\">\n",
       "  <thead>\n",
       "    <tr style=\"text-align: right;\">\n",
       "      <th></th>\n",
       "      <th>PassengerId</th>\n",
       "      <th>Survived</th>\n",
       "      <th>Pclass</th>\n",
       "      <th>Name</th>\n",
       "      <th>Sex</th>\n",
       "      <th>Age</th>\n",
       "      <th>SibSp</th>\n",
       "      <th>Parch</th>\n",
       "      <th>Ticket</th>\n",
       "      <th>Fare</th>\n",
       "      <th>Cabin</th>\n",
       "      <th>Embarked</th>\n",
       "    </tr>\n",
       "  </thead>\n",
       "  <tbody>\n",
       "    <tr>\n",
       "      <th>0</th>\n",
       "      <td>1</td>\n",
       "      <td>0</td>\n",
       "      <td>3</td>\n",
       "      <td>Braund, Mr. Owen Harris</td>\n",
       "      <td>1</td>\n",
       "      <td>22.0</td>\n",
       "      <td>1</td>\n",
       "      <td>0</td>\n",
       "      <td>A/5 21171</td>\n",
       "      <td>7.2500</td>\n",
       "      <td>7</td>\n",
       "      <td>3</td>\n",
       "    </tr>\n",
       "    <tr>\n",
       "      <th>1</th>\n",
       "      <td>2</td>\n",
       "      <td>1</td>\n",
       "      <td>1</td>\n",
       "      <td>Cumings, Mrs. John Bradley (Florence Briggs Th...</td>\n",
       "      <td>0</td>\n",
       "      <td>38.0</td>\n",
       "      <td>1</td>\n",
       "      <td>0</td>\n",
       "      <td>PC 17599</td>\n",
       "      <td>71.2833</td>\n",
       "      <td>2</td>\n",
       "      <td>0</td>\n",
       "    </tr>\n",
       "    <tr>\n",
       "      <th>2</th>\n",
       "      <td>3</td>\n",
       "      <td>1</td>\n",
       "      <td>3</td>\n",
       "      <td>Heikkinen, Miss. Laina</td>\n",
       "      <td>0</td>\n",
       "      <td>26.0</td>\n",
       "      <td>0</td>\n",
       "      <td>0</td>\n",
       "      <td>STON/O2. 3101282</td>\n",
       "      <td>7.9250</td>\n",
       "      <td>7</td>\n",
       "      <td>3</td>\n",
       "    </tr>\n",
       "    <tr>\n",
       "      <th>3</th>\n",
       "      <td>4</td>\n",
       "      <td>1</td>\n",
       "      <td>1</td>\n",
       "      <td>Futrelle, Mrs. Jacques Heath (Lily May Peel)</td>\n",
       "      <td>0</td>\n",
       "      <td>35.0</td>\n",
       "      <td>1</td>\n",
       "      <td>0</td>\n",
       "      <td>113803</td>\n",
       "      <td>53.1000</td>\n",
       "      <td>2</td>\n",
       "      <td>3</td>\n",
       "    </tr>\n",
       "    <tr>\n",
       "      <th>4</th>\n",
       "      <td>5</td>\n",
       "      <td>0</td>\n",
       "      <td>3</td>\n",
       "      <td>Allen, Mr. William Henry</td>\n",
       "      <td>1</td>\n",
       "      <td>35.0</td>\n",
       "      <td>0</td>\n",
       "      <td>0</td>\n",
       "      <td>373450</td>\n",
       "      <td>8.0500</td>\n",
       "      <td>7</td>\n",
       "      <td>3</td>\n",
       "    </tr>\n",
       "  </tbody>\n",
       "</table>\n",
       "</div>"
      ],
      "text/plain": [
       "   PassengerId  Survived  Pclass  \\\n",
       "0            1         0       3   \n",
       "1            2         1       1   \n",
       "2            3         1       3   \n",
       "3            4         1       1   \n",
       "4            5         0       3   \n",
       "\n",
       "                                                Name  Sex   Age  SibSp  Parch  \\\n",
       "0                            Braund, Mr. Owen Harris    1  22.0      1      0   \n",
       "1  Cumings, Mrs. John Bradley (Florence Briggs Th...    0  38.0      1      0   \n",
       "2                             Heikkinen, Miss. Laina    0  26.0      0      0   \n",
       "3       Futrelle, Mrs. Jacques Heath (Lily May Peel)    0  35.0      1      0   \n",
       "4                           Allen, Mr. William Henry    1  35.0      0      0   \n",
       "\n",
       "             Ticket     Fare  Cabin  Embarked  \n",
       "0         A/5 21171   7.2500      7         3  \n",
       "1          PC 17599  71.2833      2         0  \n",
       "2  STON/O2. 3101282   7.9250      7         3  \n",
       "3            113803  53.1000      2         3  \n",
       "4            373450   8.0500      7         3  "
      ]
     },
     "execution_count": 326,
     "metadata": {},
     "output_type": "execute_result"
    }
   ],
   "source": [
    "from sklearn import preprocessing\n",
    "\n",
    "def encode_features(dataDF):\n",
    "    features = ['Cabin', 'Sex', 'Embarked']\n",
    "    for feature in features:\n",
    "        le = preprocessing.LabelEncoder()\n",
    "        le = le.fit(dataDF[feature])\n",
    "        dataDF[feature] = le.transform(dataDF[feature])\n",
    "        \n",
    "    return dataDF\n",
    "\n",
    "titanic_df = encode_features(titanic_df)\n",
    "titanic_df.head()"
   ]
  },
  {
   "cell_type": "markdown",
   "metadata": {},
   "source": [
    "* Null값 및 불필요한 컬럼을 삭제"
   ]
  },
  {
   "cell_type": "code",
   "execution_count": 327,
   "metadata": {},
   "outputs": [],
   "source": [
    "from sklearn.preprocessing import LabelEncoder\n",
    "\n",
    "# Null 처리 함수\n",
    "def fillna(df):\n",
    "    df['Age'].fillna(df['Age'].mean(),inplace=True)\n",
    "    df['Cabin'].fillna('N',inplace=True)\n",
    "    df['Embarked'].fillna('N',inplace=True)\n",
    "    df['Fare'].fillna(0,inplace=True)\n",
    "    return df\n",
    "\n",
    "# 불필요한 칼럼 제거\n",
    "def drop_features(df):\n",
    "    df.drop(['PassengerId','Name','Ticket'],axis=1,inplace=True)\n",
    "    return df\n",
    "\n",
    "# 레이블 인코딩 수행. \n",
    "def format_features(df):\n",
    "    df['Cabin'] = df['Cabin'].str[:1]\n",
    "    features = ['Cabin','Sex','Embarked']\n",
    "    for feature in features:\n",
    "        le = LabelEncoder()\n",
    "        le = le.fit(df[feature])\n",
    "        df[feature] = le.transform(df[feature])\n",
    "    return df\n",
    "\n",
    "# 앞에서 설정한 Data Preprocessing 함수 호출\n",
    "def transform_features(df):\n",
    "    df = fillna(df)\n",
    "    df = drop_features(df)\n",
    "    df = format_features(df)\n",
    "    return df\n"
   ]
  },
  {
   "cell_type": "code",
   "execution_count": 328,
   "metadata": {},
   "outputs": [],
   "source": [
    "# 원본 데이터를 재로딩 하고, feature데이터 셋과 Label 데이터 셋 추출. \n",
    "titanic_df = pd.read_csv('/Users/angela/Desktop/data/titanic/train.csv')\n",
    "y_titanic_df = titanic_df['Survived']\n",
    "X_titanic_df= titanic_df.drop('Survived',axis=1)\n",
    "\n",
    "X_titanic_df = transform_features(X_titanic_df)"
   ]
  },
  {
   "cell_type": "code",
   "execution_count": 329,
   "metadata": {},
   "outputs": [
    {
     "data": {
      "text/html": [
       "<div>\n",
       "<style scoped>\n",
       "    .dataframe tbody tr th:only-of-type {\n",
       "        vertical-align: middle;\n",
       "    }\n",
       "\n",
       "    .dataframe tbody tr th {\n",
       "        vertical-align: top;\n",
       "    }\n",
       "\n",
       "    .dataframe thead th {\n",
       "        text-align: right;\n",
       "    }\n",
       "</style>\n",
       "<table border=\"1\" class=\"dataframe\">\n",
       "  <thead>\n",
       "    <tr style=\"text-align: right;\">\n",
       "      <th></th>\n",
       "      <th>Pclass</th>\n",
       "      <th>Sex</th>\n",
       "      <th>Age</th>\n",
       "      <th>SibSp</th>\n",
       "      <th>Parch</th>\n",
       "      <th>Fare</th>\n",
       "      <th>Cabin</th>\n",
       "      <th>Embarked</th>\n",
       "    </tr>\n",
       "  </thead>\n",
       "  <tbody>\n",
       "    <tr>\n",
       "      <th>0</th>\n",
       "      <td>3</td>\n",
       "      <td>1</td>\n",
       "      <td>22.000000</td>\n",
       "      <td>1</td>\n",
       "      <td>0</td>\n",
       "      <td>7.2500</td>\n",
       "      <td>7</td>\n",
       "      <td>3</td>\n",
       "    </tr>\n",
       "    <tr>\n",
       "      <th>1</th>\n",
       "      <td>1</td>\n",
       "      <td>0</td>\n",
       "      <td>38.000000</td>\n",
       "      <td>1</td>\n",
       "      <td>0</td>\n",
       "      <td>71.2833</td>\n",
       "      <td>2</td>\n",
       "      <td>0</td>\n",
       "    </tr>\n",
       "    <tr>\n",
       "      <th>2</th>\n",
       "      <td>3</td>\n",
       "      <td>0</td>\n",
       "      <td>26.000000</td>\n",
       "      <td>0</td>\n",
       "      <td>0</td>\n",
       "      <td>7.9250</td>\n",
       "      <td>7</td>\n",
       "      <td>3</td>\n",
       "    </tr>\n",
       "    <tr>\n",
       "      <th>3</th>\n",
       "      <td>1</td>\n",
       "      <td>0</td>\n",
       "      <td>35.000000</td>\n",
       "      <td>1</td>\n",
       "      <td>0</td>\n",
       "      <td>53.1000</td>\n",
       "      <td>2</td>\n",
       "      <td>3</td>\n",
       "    </tr>\n",
       "    <tr>\n",
       "      <th>4</th>\n",
       "      <td>3</td>\n",
       "      <td>1</td>\n",
       "      <td>35.000000</td>\n",
       "      <td>0</td>\n",
       "      <td>0</td>\n",
       "      <td>8.0500</td>\n",
       "      <td>7</td>\n",
       "      <td>3</td>\n",
       "    </tr>\n",
       "    <tr>\n",
       "      <th>...</th>\n",
       "      <td>...</td>\n",
       "      <td>...</td>\n",
       "      <td>...</td>\n",
       "      <td>...</td>\n",
       "      <td>...</td>\n",
       "      <td>...</td>\n",
       "      <td>...</td>\n",
       "      <td>...</td>\n",
       "    </tr>\n",
       "    <tr>\n",
       "      <th>886</th>\n",
       "      <td>2</td>\n",
       "      <td>1</td>\n",
       "      <td>27.000000</td>\n",
       "      <td>0</td>\n",
       "      <td>0</td>\n",
       "      <td>13.0000</td>\n",
       "      <td>7</td>\n",
       "      <td>3</td>\n",
       "    </tr>\n",
       "    <tr>\n",
       "      <th>887</th>\n",
       "      <td>1</td>\n",
       "      <td>0</td>\n",
       "      <td>19.000000</td>\n",
       "      <td>0</td>\n",
       "      <td>0</td>\n",
       "      <td>30.0000</td>\n",
       "      <td>1</td>\n",
       "      <td>3</td>\n",
       "    </tr>\n",
       "    <tr>\n",
       "      <th>888</th>\n",
       "      <td>3</td>\n",
       "      <td>0</td>\n",
       "      <td>29.699118</td>\n",
       "      <td>1</td>\n",
       "      <td>2</td>\n",
       "      <td>23.4500</td>\n",
       "      <td>7</td>\n",
       "      <td>3</td>\n",
       "    </tr>\n",
       "    <tr>\n",
       "      <th>889</th>\n",
       "      <td>1</td>\n",
       "      <td>1</td>\n",
       "      <td>26.000000</td>\n",
       "      <td>0</td>\n",
       "      <td>0</td>\n",
       "      <td>30.0000</td>\n",
       "      <td>2</td>\n",
       "      <td>0</td>\n",
       "    </tr>\n",
       "    <tr>\n",
       "      <th>890</th>\n",
       "      <td>3</td>\n",
       "      <td>1</td>\n",
       "      <td>32.000000</td>\n",
       "      <td>0</td>\n",
       "      <td>0</td>\n",
       "      <td>7.7500</td>\n",
       "      <td>7</td>\n",
       "      <td>2</td>\n",
       "    </tr>\n",
       "  </tbody>\n",
       "</table>\n",
       "<p>891 rows × 8 columns</p>\n",
       "</div>"
      ],
      "text/plain": [
       "     Pclass  Sex        Age  SibSp  Parch     Fare  Cabin  Embarked\n",
       "0         3    1  22.000000      1      0   7.2500      7         3\n",
       "1         1    0  38.000000      1      0  71.2833      2         0\n",
       "2         3    0  26.000000      0      0   7.9250      7         3\n",
       "3         1    0  35.000000      1      0  53.1000      2         3\n",
       "4         3    1  35.000000      0      0   8.0500      7         3\n",
       "..      ...  ...        ...    ...    ...      ...    ...       ...\n",
       "886       2    1  27.000000      0      0  13.0000      7         3\n",
       "887       1    0  19.000000      0      0  30.0000      1         3\n",
       "888       3    0  29.699118      1      2  23.4500      7         3\n",
       "889       1    1  26.000000      0      0  30.0000      2         0\n",
       "890       3    1  32.000000      0      0   7.7500      7         2\n",
       "\n",
       "[891 rows x 8 columns]"
      ]
     },
     "execution_count": 329,
     "metadata": {},
     "output_type": "execute_result"
    }
   ],
   "source": [
    "X_titanic_df"
   ]
  },
  {
   "cell_type": "code",
   "execution_count": 330,
   "metadata": {},
   "outputs": [],
   "source": [
    "from sklearn.preprocessing import MinMaxScaler\n",
    "scaler = MinMaxScaler()\n"
   ]
  },
  {
   "cell_type": "code",
   "execution_count": 331,
   "metadata": {},
   "outputs": [
    {
     "data": {
      "text/plain": [
       "MinMaxScaler()"
      ]
     },
     "execution_count": 331,
     "metadata": {},
     "output_type": "execute_result"
    }
   ],
   "source": [
    "scaler.fit(X_titanic_df)"
   ]
  },
  {
   "cell_type": "code",
   "execution_count": 332,
   "metadata": {},
   "outputs": [],
   "source": [
    "X_train_scale = scaler.transform(X_titanic_df)"
   ]
  },
  {
   "cell_type": "code",
   "execution_count": 333,
   "metadata": {},
   "outputs": [
    {
     "data": {
      "text/plain": [
       "(891, 8)"
      ]
     },
     "execution_count": 333,
     "metadata": {},
     "output_type": "execute_result"
    }
   ],
   "source": [
    "X_train_scale.shape"
   ]
  },
  {
   "cell_type": "code",
   "execution_count": 334,
   "metadata": {},
   "outputs": [],
   "source": [
    "from tensorflow import keras\n",
    "import tensorflow as tf"
   ]
  },
  {
   "cell_type": "code",
   "execution_count": 335,
   "metadata": {},
   "outputs": [
    {
     "data": {
      "text/plain": [
       "(891, 8)"
      ]
     },
     "execution_count": 335,
     "metadata": {},
     "output_type": "execute_result"
    }
   ],
   "source": [
    "X_train_scale.shape"
   ]
  },
  {
   "cell_type": "code",
   "execution_count": 336,
   "metadata": {},
   "outputs": [
    {
     "data": {
      "text/plain": [
       "(891, 8)"
      ]
     },
     "execution_count": 336,
     "metadata": {},
     "output_type": "execute_result"
    }
   ],
   "source": [
    "X_train_scale.shape"
   ]
  },
  {
   "cell_type": "code",
   "execution_count": 337,
   "metadata": {},
   "outputs": [],
   "source": [
    "model = keras.Sequential()\n",
    "model.add(keras.layers.Dense(64, activation='relu', input_shape=[8],  kernel_initializer='he_normal'))\n",
    "model.add(keras.layers.Dropout(0.4))\n",
    "model.add(keras.layers.BatchNormalization(momentum = 0.99))\n",
    "model.add(keras.layers.Dense(32, activation='relu'))\n",
    "model.add(keras.layers.Dropout(0.4))\n",
    "model.add(keras.layers.BatchNormalization(momentum = 0.99))\n",
    "model.add(keras.layers.Dense(8, activation='relu'))\n",
    "model.add(keras.layers.Dense(1, activation='sigmoid'))"
   ]
  },
  {
   "cell_type": "code",
   "execution_count": 338,
   "metadata": {},
   "outputs": [],
   "source": [
    "# compile\n",
    "model.compile(loss='binary_crossentropy',\n",
    "              optimizer=tf.keras.optimizers.Adagrad(0.01),\n",
    "              metrics=['accuracy'])"
   ]
  },
  {
   "cell_type": "code",
   "execution_count": 339,
   "metadata": {},
   "outputs": [],
   "source": [
    "early_stopping_cb = keras.callbacks.EarlyStopping(patience=5,\n",
    "                                                  restore_best_weights=True)"
   ]
  },
  {
   "cell_type": "code",
   "execution_count": 340,
   "metadata": {},
   "outputs": [],
   "source": [
    "y_train = np.asarray(y_titanic_df).astype(np.float32)"
   ]
  },
  {
   "cell_type": "code",
   "execution_count": 341,
   "metadata": {},
   "outputs": [
    {
     "name": "stdout",
     "output_type": "stream",
     "text": [
      "Epoch 1/500\n",
      "23/23 [==============================] - 1s 6ms/step - loss: 0.7320 - accuracy: 0.5253 - val_loss: 0.6732 - val_accuracy: 0.7318\n",
      "Epoch 2/500\n",
      "23/23 [==============================] - 0s 2ms/step - loss: 0.6716 - accuracy: 0.6039 - val_loss: 0.6224 - val_accuracy: 0.7095\n",
      "Epoch 3/500\n",
      "23/23 [==============================] - 0s 2ms/step - loss: 0.6356 - accuracy: 0.6433 - val_loss: 0.5885 - val_accuracy: 0.7151\n",
      "Epoch 4/500\n",
      "23/23 [==============================] - 0s 2ms/step - loss: 0.6299 - accuracy: 0.6587 - val_loss: 0.5685 - val_accuracy: 0.7207\n",
      "Epoch 5/500\n",
      "23/23 [==============================] - 0s 2ms/step - loss: 0.6036 - accuracy: 0.6798 - val_loss: 0.5504 - val_accuracy: 0.7598\n",
      "Epoch 6/500\n",
      "23/23 [==============================] - 0s 2ms/step - loss: 0.5982 - accuracy: 0.6896 - val_loss: 0.5356 - val_accuracy: 0.7709\n",
      "Epoch 7/500\n",
      "23/23 [==============================] - 0s 2ms/step - loss: 0.5738 - accuracy: 0.7388 - val_loss: 0.5207 - val_accuracy: 0.7877\n",
      "Epoch 8/500\n",
      "23/23 [==============================] - 0s 2ms/step - loss: 0.5694 - accuracy: 0.7388 - val_loss: 0.5092 - val_accuracy: 0.8156\n",
      "Epoch 9/500\n",
      "23/23 [==============================] - 0s 2ms/step - loss: 0.5514 - accuracy: 0.7444 - val_loss: 0.4972 - val_accuracy: 0.8212\n",
      "Epoch 10/500\n",
      "23/23 [==============================] - 0s 2ms/step - loss: 0.5667 - accuracy: 0.7275 - val_loss: 0.4880 - val_accuracy: 0.8156\n",
      "Epoch 11/500\n",
      "23/23 [==============================] - 0s 2ms/step - loss: 0.5563 - accuracy: 0.7360 - val_loss: 0.4785 - val_accuracy: 0.8101\n",
      "Epoch 12/500\n",
      "23/23 [==============================] - 0s 2ms/step - loss: 0.5664 - accuracy: 0.7388 - val_loss: 0.4703 - val_accuracy: 0.7989\n",
      "Epoch 13/500\n",
      "23/23 [==============================] - 0s 2ms/step - loss: 0.5498 - accuracy: 0.7458 - val_loss: 0.4641 - val_accuracy: 0.7989\n",
      "Epoch 14/500\n",
      "23/23 [==============================] - 0s 2ms/step - loss: 0.5423 - accuracy: 0.7542 - val_loss: 0.4564 - val_accuracy: 0.7989\n",
      "Epoch 15/500\n",
      "23/23 [==============================] - 0s 2ms/step - loss: 0.5287 - accuracy: 0.7514 - val_loss: 0.4501 - val_accuracy: 0.7989\n",
      "Epoch 16/500\n",
      "23/23 [==============================] - 0s 2ms/step - loss: 0.5240 - accuracy: 0.7486 - val_loss: 0.4444 - val_accuracy: 0.7989\n",
      "Epoch 17/500\n",
      "23/23 [==============================] - 0s 2ms/step - loss: 0.5275 - accuracy: 0.7640 - val_loss: 0.4403 - val_accuracy: 0.7989\n",
      "Epoch 18/500\n",
      "23/23 [==============================] - 0s 2ms/step - loss: 0.5247 - accuracy: 0.7626 - val_loss: 0.4361 - val_accuracy: 0.7989\n",
      "Epoch 19/500\n",
      "23/23 [==============================] - 0s 2ms/step - loss: 0.5257 - accuracy: 0.7584 - val_loss: 0.4328 - val_accuracy: 0.7989\n",
      "Epoch 20/500\n",
      "23/23 [==============================] - 0s 2ms/step - loss: 0.5340 - accuracy: 0.7584 - val_loss: 0.4301 - val_accuracy: 0.7989\n",
      "Epoch 21/500\n",
      "23/23 [==============================] - 0s 2ms/step - loss: 0.5187 - accuracy: 0.7612 - val_loss: 0.4275 - val_accuracy: 0.7989\n",
      "Epoch 22/500\n",
      "23/23 [==============================] - 0s 2ms/step - loss: 0.5192 - accuracy: 0.7669 - val_loss: 0.4254 - val_accuracy: 0.7989\n",
      "Epoch 23/500\n",
      "23/23 [==============================] - 0s 2ms/step - loss: 0.5143 - accuracy: 0.7739 - val_loss: 0.4227 - val_accuracy: 0.7989\n",
      "Epoch 24/500\n",
      "23/23 [==============================] - 0s 2ms/step - loss: 0.5205 - accuracy: 0.7430 - val_loss: 0.4218 - val_accuracy: 0.7989\n",
      "Epoch 25/500\n",
      "23/23 [==============================] - 0s 2ms/step - loss: 0.5176 - accuracy: 0.7346 - val_loss: 0.4196 - val_accuracy: 0.7989\n",
      "Epoch 26/500\n",
      "23/23 [==============================] - 0s 2ms/step - loss: 0.5172 - accuracy: 0.7472 - val_loss: 0.4184 - val_accuracy: 0.8156\n",
      "Epoch 27/500\n",
      "23/23 [==============================] - 0s 2ms/step - loss: 0.4979 - accuracy: 0.7837 - val_loss: 0.4167 - val_accuracy: 0.8101\n",
      "Epoch 28/500\n",
      "23/23 [==============================] - 0s 2ms/step - loss: 0.5157 - accuracy: 0.7739 - val_loss: 0.4156 - val_accuracy: 0.8156\n",
      "Epoch 29/500\n",
      "23/23 [==============================] - 0s 2ms/step - loss: 0.5180 - accuracy: 0.7556 - val_loss: 0.4143 - val_accuracy: 0.8156\n",
      "Epoch 30/500\n",
      "23/23 [==============================] - 0s 2ms/step - loss: 0.5118 - accuracy: 0.7669 - val_loss: 0.4135 - val_accuracy: 0.8156\n",
      "Epoch 31/500\n",
      "23/23 [==============================] - 0s 2ms/step - loss: 0.5347 - accuracy: 0.7458 - val_loss: 0.4128 - val_accuracy: 0.8156\n",
      "Epoch 32/500\n",
      "23/23 [==============================] - 0s 2ms/step - loss: 0.5275 - accuracy: 0.7528 - val_loss: 0.4124 - val_accuracy: 0.8156\n",
      "Epoch 33/500\n",
      "23/23 [==============================] - 0s 2ms/step - loss: 0.5156 - accuracy: 0.7612 - val_loss: 0.4115 - val_accuracy: 0.8156\n",
      "Epoch 34/500\n",
      "23/23 [==============================] - 0s 2ms/step - loss: 0.5111 - accuracy: 0.7626 - val_loss: 0.4113 - val_accuracy: 0.8156\n",
      "Epoch 35/500\n",
      "23/23 [==============================] - 0s 2ms/step - loss: 0.5000 - accuracy: 0.7767 - val_loss: 0.4102 - val_accuracy: 0.8156\n",
      "Epoch 36/500\n",
      "23/23 [==============================] - 0s 2ms/step - loss: 0.5179 - accuracy: 0.7683 - val_loss: 0.4095 - val_accuracy: 0.8156\n",
      "Epoch 37/500\n",
      "23/23 [==============================] - 0s 2ms/step - loss: 0.4828 - accuracy: 0.7851 - val_loss: 0.4088 - val_accuracy: 0.8156\n",
      "Epoch 38/500\n",
      "23/23 [==============================] - 0s 2ms/step - loss: 0.5108 - accuracy: 0.7542 - val_loss: 0.4086 - val_accuracy: 0.8212\n",
      "Epoch 39/500\n",
      "23/23 [==============================] - 0s 2ms/step - loss: 0.5245 - accuracy: 0.7640 - val_loss: 0.4084 - val_accuracy: 0.8212\n",
      "Epoch 40/500\n",
      "23/23 [==============================] - 0s 2ms/step - loss: 0.5096 - accuracy: 0.7795 - val_loss: 0.4085 - val_accuracy: 0.8212\n",
      "Epoch 41/500\n",
      "23/23 [==============================] - 0s 2ms/step - loss: 0.5044 - accuracy: 0.7711 - val_loss: 0.4075 - val_accuracy: 0.8212\n",
      "Epoch 42/500\n",
      "23/23 [==============================] - 0s 2ms/step - loss: 0.5040 - accuracy: 0.7486 - val_loss: 0.4069 - val_accuracy: 0.8212\n",
      "Epoch 43/500\n",
      "23/23 [==============================] - 0s 2ms/step - loss: 0.5013 - accuracy: 0.7654 - val_loss: 0.4071 - val_accuracy: 0.8212\n",
      "Epoch 44/500\n",
      "23/23 [==============================] - 0s 2ms/step - loss: 0.5107 - accuracy: 0.7711 - val_loss: 0.4069 - val_accuracy: 0.8212\n",
      "Epoch 45/500\n",
      "23/23 [==============================] - 0s 2ms/step - loss: 0.4874 - accuracy: 0.7795 - val_loss: 0.4064 - val_accuracy: 0.8212\n",
      "Epoch 46/500\n",
      "23/23 [==============================] - 0s 2ms/step - loss: 0.4939 - accuracy: 0.7669 - val_loss: 0.4058 - val_accuracy: 0.8212\n",
      "Epoch 47/500\n",
      "23/23 [==============================] - 0s 2ms/step - loss: 0.4898 - accuracy: 0.7781 - val_loss: 0.4062 - val_accuracy: 0.8212\n",
      "Epoch 48/500\n",
      "23/23 [==============================] - 0s 2ms/step - loss: 0.5026 - accuracy: 0.7640 - val_loss: 0.4059 - val_accuracy: 0.8212\n",
      "Epoch 49/500\n",
      "23/23 [==============================] - 0s 2ms/step - loss: 0.5041 - accuracy: 0.7767 - val_loss: 0.4058 - val_accuracy: 0.8212\n",
      "Epoch 50/500\n",
      "23/23 [==============================] - 0s 2ms/step - loss: 0.5110 - accuracy: 0.7823 - val_loss: 0.4055 - val_accuracy: 0.8156\n",
      "Epoch 51/500\n",
      "23/23 [==============================] - 0s 2ms/step - loss: 0.4947 - accuracy: 0.7683 - val_loss: 0.4049 - val_accuracy: 0.8212\n",
      "Epoch 52/500\n",
      "23/23 [==============================] - 0s 2ms/step - loss: 0.4966 - accuracy: 0.7697 - val_loss: 0.4049 - val_accuracy: 0.8212\n",
      "Epoch 53/500\n",
      "23/23 [==============================] - 0s 2ms/step - loss: 0.4837 - accuracy: 0.7921 - val_loss: 0.4050 - val_accuracy: 0.8212\n",
      "Epoch 54/500\n",
      "23/23 [==============================] - 0s 2ms/step - loss: 0.4835 - accuracy: 0.7683 - val_loss: 0.4050 - val_accuracy: 0.8212\n",
      "Epoch 55/500\n",
      "23/23 [==============================] - 0s 2ms/step - loss: 0.4951 - accuracy: 0.7612 - val_loss: 0.4042 - val_accuracy: 0.8212\n",
      "Epoch 56/500\n",
      "23/23 [==============================] - 0s 2ms/step - loss: 0.5114 - accuracy: 0.7697 - val_loss: 0.4042 - val_accuracy: 0.8212\n",
      "Epoch 57/500\n",
      "23/23 [==============================] - 0s 2ms/step - loss: 0.4932 - accuracy: 0.7683 - val_loss: 0.4042 - val_accuracy: 0.8212\n",
      "Epoch 58/500\n",
      "23/23 [==============================] - 0s 2ms/step - loss: 0.5040 - accuracy: 0.7767 - val_loss: 0.4044 - val_accuracy: 0.8212\n"
     ]
    },
    {
     "name": "stdout",
     "output_type": "stream",
     "text": [
      "Epoch 59/500\n",
      "23/23 [==============================] - 0s 2ms/step - loss: 0.5071 - accuracy: 0.7654 - val_loss: 0.4041 - val_accuracy: 0.8212\n",
      "Epoch 60/500\n",
      "23/23 [==============================] - 0s 2ms/step - loss: 0.4850 - accuracy: 0.7921 - val_loss: 0.4042 - val_accuracy: 0.8212\n",
      "Epoch 61/500\n",
      "23/23 [==============================] - 0s 2ms/step - loss: 0.5008 - accuracy: 0.7697 - val_loss: 0.4038 - val_accuracy: 0.8212\n",
      "Epoch 62/500\n",
      "23/23 [==============================] - 0s 2ms/step - loss: 0.5070 - accuracy: 0.7612 - val_loss: 0.4039 - val_accuracy: 0.8156\n",
      "Epoch 63/500\n",
      "23/23 [==============================] - 0s 2ms/step - loss: 0.4909 - accuracy: 0.7725 - val_loss: 0.4039 - val_accuracy: 0.8156\n",
      "Epoch 64/500\n",
      "23/23 [==============================] - 0s 2ms/step - loss: 0.4987 - accuracy: 0.7626 - val_loss: 0.4042 - val_accuracy: 0.8212\n",
      "Epoch 65/500\n",
      "23/23 [==============================] - 0s 2ms/step - loss: 0.4703 - accuracy: 0.7865 - val_loss: 0.4038 - val_accuracy: 0.8156\n",
      "Epoch 66/500\n",
      "23/23 [==============================] - 0s 2ms/step - loss: 0.4966 - accuracy: 0.7725 - val_loss: 0.4036 - val_accuracy: 0.8212\n",
      "Epoch 67/500\n",
      "23/23 [==============================] - 0s 2ms/step - loss: 0.5070 - accuracy: 0.7626 - val_loss: 0.4031 - val_accuracy: 0.8212\n",
      "Epoch 68/500\n",
      "23/23 [==============================] - 0s 2ms/step - loss: 0.4993 - accuracy: 0.7753 - val_loss: 0.4024 - val_accuracy: 0.8156\n",
      "Epoch 69/500\n",
      "23/23 [==============================] - 0s 2ms/step - loss: 0.4867 - accuracy: 0.7711 - val_loss: 0.4029 - val_accuracy: 0.8156\n",
      "Epoch 70/500\n",
      "23/23 [==============================] - 0s 2ms/step - loss: 0.5036 - accuracy: 0.7556 - val_loss: 0.4027 - val_accuracy: 0.8156\n",
      "Epoch 71/500\n",
      "23/23 [==============================] - 0s 2ms/step - loss: 0.5033 - accuracy: 0.7851 - val_loss: 0.4026 - val_accuracy: 0.8156\n",
      "Epoch 72/500\n",
      "23/23 [==============================] - 0s 2ms/step - loss: 0.4938 - accuracy: 0.7767 - val_loss: 0.4020 - val_accuracy: 0.8212\n",
      "Epoch 73/500\n",
      "23/23 [==============================] - 0s 2ms/step - loss: 0.5041 - accuracy: 0.7612 - val_loss: 0.4022 - val_accuracy: 0.8156\n",
      "Epoch 74/500\n",
      "23/23 [==============================] - 0s 2ms/step - loss: 0.5072 - accuracy: 0.7711 - val_loss: 0.4017 - val_accuracy: 0.8212\n",
      "Epoch 75/500\n",
      "23/23 [==============================] - 0s 2ms/step - loss: 0.5131 - accuracy: 0.7584 - val_loss: 0.4017 - val_accuracy: 0.8212\n",
      "Epoch 76/500\n",
      "23/23 [==============================] - 0s 2ms/step - loss: 0.4942 - accuracy: 0.7612 - val_loss: 0.4011 - val_accuracy: 0.8212\n",
      "Epoch 77/500\n",
      "23/23 [==============================] - 0s 2ms/step - loss: 0.4813 - accuracy: 0.7865 - val_loss: 0.4011 - val_accuracy: 0.8212\n",
      "Epoch 78/500\n",
      "23/23 [==============================] - 0s 2ms/step - loss: 0.4928 - accuracy: 0.7809 - val_loss: 0.4012 - val_accuracy: 0.8212\n",
      "Epoch 79/500\n",
      "23/23 [==============================] - 0s 2ms/step - loss: 0.4914 - accuracy: 0.7753 - val_loss: 0.4013 - val_accuracy: 0.8212\n",
      "Epoch 80/500\n",
      "23/23 [==============================] - 0s 2ms/step - loss: 0.4899 - accuracy: 0.7711 - val_loss: 0.4009 - val_accuracy: 0.8212\n",
      "Epoch 81/500\n",
      "23/23 [==============================] - 0s 2ms/step - loss: 0.4786 - accuracy: 0.7753 - val_loss: 0.4007 - val_accuracy: 0.8212\n",
      "Epoch 82/500\n",
      "23/23 [==============================] - 0s 2ms/step - loss: 0.4731 - accuracy: 0.7879 - val_loss: 0.4004 - val_accuracy: 0.8212\n",
      "Epoch 83/500\n",
      "23/23 [==============================] - 0s 2ms/step - loss: 0.4854 - accuracy: 0.8048 - val_loss: 0.4003 - val_accuracy: 0.8212\n",
      "Epoch 84/500\n",
      "23/23 [==============================] - 0s 2ms/step - loss: 0.4848 - accuracy: 0.7837 - val_loss: 0.4000 - val_accuracy: 0.8212\n",
      "Epoch 85/500\n",
      "23/23 [==============================] - 0s 2ms/step - loss: 0.5087 - accuracy: 0.7640 - val_loss: 0.3996 - val_accuracy: 0.8212\n",
      "Epoch 86/500\n",
      "23/23 [==============================] - 0s 2ms/step - loss: 0.4913 - accuracy: 0.7683 - val_loss: 0.3994 - val_accuracy: 0.8212\n",
      "Epoch 87/500\n",
      "23/23 [==============================] - 0s 2ms/step - loss: 0.4712 - accuracy: 0.7809 - val_loss: 0.3994 - val_accuracy: 0.8212\n",
      "Epoch 88/500\n",
      "23/23 [==============================] - 0s 2ms/step - loss: 0.5092 - accuracy: 0.7458 - val_loss: 0.3996 - val_accuracy: 0.8212\n",
      "Epoch 89/500\n",
      "23/23 [==============================] - 0s 2ms/step - loss: 0.4762 - accuracy: 0.7921 - val_loss: 0.4000 - val_accuracy: 0.8212\n",
      "Epoch 90/500\n",
      "23/23 [==============================] - 0s 2ms/step - loss: 0.4849 - accuracy: 0.7851 - val_loss: 0.3996 - val_accuracy: 0.8212\n",
      "Epoch 91/500\n",
      "23/23 [==============================] - 0s 2ms/step - loss: 0.4951 - accuracy: 0.7809 - val_loss: 0.3995 - val_accuracy: 0.8212\n"
     ]
    }
   ],
   "source": [
    "hist = model.fit(X_train_scale, y_train,  validation_split=0.2, epochs=500, verbose=1, callbacks=[early_stopping_cb])"
   ]
  },
  {
   "cell_type": "markdown",
   "metadata": {},
   "source": [
    "## 테스트 데이터 검증"
   ]
  },
  {
   "cell_type": "code",
   "execution_count": 342,
   "metadata": {},
   "outputs": [],
   "source": [
    "test_df = pd.read_csv('/Users/angela/Desktop/data/titanic/test.csv')"
   ]
  },
  {
   "cell_type": "code",
   "execution_count": 343,
   "metadata": {},
   "outputs": [
    {
     "data": {
      "text/html": [
       "<div>\n",
       "<style scoped>\n",
       "    .dataframe tbody tr th:only-of-type {\n",
       "        vertical-align: middle;\n",
       "    }\n",
       "\n",
       "    .dataframe tbody tr th {\n",
       "        vertical-align: top;\n",
       "    }\n",
       "\n",
       "    .dataframe thead th {\n",
       "        text-align: right;\n",
       "    }\n",
       "</style>\n",
       "<table border=\"1\" class=\"dataframe\">\n",
       "  <thead>\n",
       "    <tr style=\"text-align: right;\">\n",
       "      <th></th>\n",
       "      <th>PassengerId</th>\n",
       "      <th>Pclass</th>\n",
       "      <th>Name</th>\n",
       "      <th>Sex</th>\n",
       "      <th>Age</th>\n",
       "      <th>SibSp</th>\n",
       "      <th>Parch</th>\n",
       "      <th>Ticket</th>\n",
       "      <th>Fare</th>\n",
       "      <th>Cabin</th>\n",
       "      <th>Embarked</th>\n",
       "    </tr>\n",
       "  </thead>\n",
       "  <tbody>\n",
       "    <tr>\n",
       "      <th>0</th>\n",
       "      <td>892</td>\n",
       "      <td>3</td>\n",
       "      <td>Kelly, Mr. James</td>\n",
       "      <td>male</td>\n",
       "      <td>34.5</td>\n",
       "      <td>0</td>\n",
       "      <td>0</td>\n",
       "      <td>330911</td>\n",
       "      <td>7.8292</td>\n",
       "      <td>NaN</td>\n",
       "      <td>Q</td>\n",
       "    </tr>\n",
       "    <tr>\n",
       "      <th>1</th>\n",
       "      <td>893</td>\n",
       "      <td>3</td>\n",
       "      <td>Wilkes, Mrs. James (Ellen Needs)</td>\n",
       "      <td>female</td>\n",
       "      <td>47.0</td>\n",
       "      <td>1</td>\n",
       "      <td>0</td>\n",
       "      <td>363272</td>\n",
       "      <td>7.0000</td>\n",
       "      <td>NaN</td>\n",
       "      <td>S</td>\n",
       "    </tr>\n",
       "    <tr>\n",
       "      <th>2</th>\n",
       "      <td>894</td>\n",
       "      <td>2</td>\n",
       "      <td>Myles, Mr. Thomas Francis</td>\n",
       "      <td>male</td>\n",
       "      <td>62.0</td>\n",
       "      <td>0</td>\n",
       "      <td>0</td>\n",
       "      <td>240276</td>\n",
       "      <td>9.6875</td>\n",
       "      <td>NaN</td>\n",
       "      <td>Q</td>\n",
       "    </tr>\n",
       "    <tr>\n",
       "      <th>3</th>\n",
       "      <td>895</td>\n",
       "      <td>3</td>\n",
       "      <td>Wirz, Mr. Albert</td>\n",
       "      <td>male</td>\n",
       "      <td>27.0</td>\n",
       "      <td>0</td>\n",
       "      <td>0</td>\n",
       "      <td>315154</td>\n",
       "      <td>8.6625</td>\n",
       "      <td>NaN</td>\n",
       "      <td>S</td>\n",
       "    </tr>\n",
       "    <tr>\n",
       "      <th>4</th>\n",
       "      <td>896</td>\n",
       "      <td>3</td>\n",
       "      <td>Hirvonen, Mrs. Alexander (Helga E Lindqvist)</td>\n",
       "      <td>female</td>\n",
       "      <td>22.0</td>\n",
       "      <td>1</td>\n",
       "      <td>1</td>\n",
       "      <td>3101298</td>\n",
       "      <td>12.2875</td>\n",
       "      <td>NaN</td>\n",
       "      <td>S</td>\n",
       "    </tr>\n",
       "  </tbody>\n",
       "</table>\n",
       "</div>"
      ],
      "text/plain": [
       "   PassengerId  Pclass                                          Name     Sex  \\\n",
       "0          892       3                              Kelly, Mr. James    male   \n",
       "1          893       3              Wilkes, Mrs. James (Ellen Needs)  female   \n",
       "2          894       2                     Myles, Mr. Thomas Francis    male   \n",
       "3          895       3                              Wirz, Mr. Albert    male   \n",
       "4          896       3  Hirvonen, Mrs. Alexander (Helga E Lindqvist)  female   \n",
       "\n",
       "    Age  SibSp  Parch   Ticket     Fare Cabin Embarked  \n",
       "0  34.5      0      0   330911   7.8292   NaN        Q  \n",
       "1  47.0      1      0   363272   7.0000   NaN        S  \n",
       "2  62.0      0      0   240276   9.6875   NaN        Q  \n",
       "3  27.0      0      0   315154   8.6625   NaN        S  \n",
       "4  22.0      1      1  3101298  12.2875   NaN        S  "
      ]
     },
     "execution_count": 343,
     "metadata": {},
     "output_type": "execute_result"
    }
   ],
   "source": [
    "test_df.head()"
   ]
  },
  {
   "cell_type": "code",
   "execution_count": 344,
   "metadata": {},
   "outputs": [
    {
     "data": {
      "text/plain": [
       "(418, 11)"
      ]
     },
     "execution_count": 344,
     "metadata": {},
     "output_type": "execute_result"
    }
   ],
   "source": [
    "test_df.shape"
   ]
  },
  {
   "cell_type": "code",
   "execution_count": 345,
   "metadata": {},
   "outputs": [],
   "source": [
    "test_df = transform_features(test_df)"
   ]
  },
  {
   "cell_type": "code",
   "execution_count": 346,
   "metadata": {},
   "outputs": [],
   "source": [
    "test_df_scale = scaler.transform(test_df)"
   ]
  },
  {
   "cell_type": "code",
   "execution_count": 347,
   "metadata": {},
   "outputs": [
    {
     "name": "stderr",
     "output_type": "stream",
     "text": [
      "/opt/anaconda3/lib/python3.8/site-packages/tensorflow/python/keras/engine/sequential.py:455: UserWarning: `model.predict_classes()` is deprecated and will be removed after 2021-01-01. Please use instead:* `np.argmax(model.predict(x), axis=-1)`,   if your model does multi-class classification   (e.g. if it uses a `softmax` last-layer activation).* `(model.predict(x) > 0.5).astype(\"int32\")`,   if your model does binary classification   (e.g. if it uses a `sigmoid` last-layer activation).\n",
      "  warnings.warn('`model.predict_classes()` is deprecated and '\n"
     ]
    }
   ],
   "source": [
    "model_test_result = model.predict_classes(test_df_scale)"
   ]
  },
  {
   "cell_type": "code",
   "execution_count": 348,
   "metadata": {},
   "outputs": [],
   "source": [
    "result_df = pd.DataFrame(model_test_result, columns=['Survived'])"
   ]
  },
  {
   "cell_type": "code",
   "execution_count": 349,
   "metadata": {},
   "outputs": [],
   "source": [
    "test_df = pd.read_csv('/Users/angela/Desktop/data/titanic/test.csv')"
   ]
  },
  {
   "cell_type": "code",
   "execution_count": 350,
   "metadata": {},
   "outputs": [],
   "source": [
    "result_df2 = test_df.join(result_df)"
   ]
  },
  {
   "cell_type": "code",
   "execution_count": 351,
   "metadata": {},
   "outputs": [],
   "source": [
    "result_df2[['PassengerId', 'Survived']].to_csv(\"submission.csv\", index=False)"
   ]
  },
  {
   "cell_type": "code",
   "execution_count": 352,
   "metadata": {},
   "outputs": [],
   "source": [
    "test_y = pd.read_csv('/Users/angela/Desktop/data/titanic/gender_submission.csv')"
   ]
  },
  {
   "cell_type": "code",
   "execution_count": 353,
   "metadata": {},
   "outputs": [
    {
     "name": "stdout",
     "output_type": "stream",
     "text": [
      "14/14 [==============================] - 0s 988us/step - loss: 0.2393 - accuracy: 0.9928\n"
     ]
    }
   ],
   "source": [
    "rt = model.evaluate(test_df_scale, test_y['Survived'] )"
   ]
  },
  {
   "cell_type": "code",
   "execution_count": 354,
   "metadata": {},
   "outputs": [
    {
     "name": "stdout",
     "output_type": "stream",
     "text": [
      "accurancy : 0.9928229451179504\n"
     ]
    }
   ],
   "source": [
    "print (\"accurancy : {}\".format(rt[1]))"
   ]
  },
  {
   "cell_type": "code",
   "execution_count": null,
   "metadata": {},
   "outputs": [],
   "source": []
  }
 ],
 "metadata": {
  "kernelspec": {
   "display_name": "Python 3",
   "language": "python",
   "name": "python3"
  },
  "language_info": {
   "codemirror_mode": {
    "name": "ipython",
    "version": 3
   },
   "file_extension": ".py",
   "mimetype": "text/x-python",
   "name": "python",
   "nbconvert_exporter": "python",
   "pygments_lexer": "ipython3",
   "version": "3.11.0"
  },
  "vscode": {
   "interpreter": {
    "hash": "c261aea317cc0286b3b3261fbba9abdec21eaa57589985bb7a274bf54d6cc0a7"
   }
  }
 },
 "nbformat": 4,
 "nbformat_minor": 4
}
